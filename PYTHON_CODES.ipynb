{
 "cells": [
  {
   "cell_type": "code",
   "execution_count": 7,
   "metadata": {},
   "outputs": [
    {
     "name": "stdout",
     "output_type": "stream",
     "text": [
      "['madam', 'mom']\n"
     ]
    }
   ],
   "source": [
    "# find the palindrome in list\n",
    "def palindrome():\n",
    "    str=[\"madam\",\"drum\",\"mom\",\"banana\"]\n",
    "    palindrome=[]\n",
    "    for i in str:\n",
    "        j=i[::-1]\n",
    "        if i==j:\n",
    "            palindrome.append(i)\n",
    "    print(palindrome)\n",
    "palindrome()"
   ]
  },
  {
   "cell_type": "code",
   "execution_count": 17,
   "metadata": {},
   "outputs": [
    {
     "name": "stdout",
     "output_type": "stream",
     "text": [
      "(55, 45, 250, 10.0)\n"
     ]
    }
   ],
   "source": [
    "#arithemetic_operations\n",
    "def arithemetic_operators(x,y):\n",
    "    add=x+y\n",
    "    sub=x-y\n",
    "    multiply=x*y\n",
    "    divide=x/y\n",
    "    return add,sub,multiply,divide\n",
    "result=arithemetic_operators(50,5)\n",
    "print(result)\n"
   ]
  },
  {
   "cell_type": "code",
   "execution_count": 32,
   "metadata": {},
   "outputs": [
    {
     "name": "stdout",
     "output_type": "stream",
     "text": [
      "745\n"
     ]
    }
   ],
   "source": [
    "#find the largest number in list\n",
    "def large_number(num):\n",
    "    large_num=0\n",
    "    for i in num:\n",
    "        if large_num<i:\n",
    "            large_num=i\n",
    "        else:\n",
    "            continue\n",
    "    return large_num\n",
    "num=[34,76,745,56,45,24]\n",
    "result=large_number(num)\n",
    "print(result)\n",
    "\n",
    "\n",
    "\n",
    "       "
   ]
  },
  {
   "cell_type": "code",
   "execution_count": 61,
   "metadata": {},
   "outputs": [
    {
     "name": "stdout",
     "output_type": "stream",
     "text": [
      "celsius to fahrenheit 82.4\n"
     ]
    }
   ],
   "source": [
    "#celsius to fahrenheit\n",
    "def c_f(c):\n",
    "    F=9/5*c+32\n",
    "    print(\"celsius to fahrenheit\",F)\n",
    "c_f(28)\n"
   ]
  },
  {
   "cell_type": "code",
   "execution_count": 73,
   "metadata": {},
   "outputs": [
    {
     "name": "stdout",
     "output_type": "stream",
     "text": [
      "Prime numbers in the list: [53, 7, 13, 17]\n"
     ]
    }
   ],
   "source": [
    "def is_prime(num):\n",
    "    if num <= 1:\n",
    "        return False\n",
    "    for i in range(2, int(num**0.5) + 1):\n",
    "        if num % i == 0:\n",
    "            return False\n",
    "    return True\n",
    "\n",
    "def prime_numbers(numbers):\n",
    "    prime_list = []\n",
    "    for num in numbers:\n",
    "        if is_prime(num):\n",
    "            prime_list.append(num)\n",
    "    return prime_list\n",
    "\n",
    "numbers = [56, 53, 24, 7, 90, 13, 17]\n",
    "print(\"Prime numbers in the list:\", prime_numbers(numbers))\n",
    "\n"
   ]
  }
 ],
 "metadata": {
  "kernelspec": {
   "display_name": "Python 3",
   "language": "python",
   "name": "python3"
  },
  "language_info": {
   "codemirror_mode": {
    "name": "ipython",
    "version": 3
   },
   "file_extension": ".py",
   "mimetype": "text/x-python",
   "name": "python",
   "nbconvert_exporter": "python",
   "pygments_lexer": "ipython3",
   "version": "3.8.2"
  }
 },
 "nbformat": 4,
 "nbformat_minor": 2
}
